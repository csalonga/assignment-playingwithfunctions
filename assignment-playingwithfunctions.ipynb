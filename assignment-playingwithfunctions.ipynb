{
 "cells": [
  {
   "cell_type": "markdown",
   "metadata": {},
   "source": [
    "## Playing With Functions\n",
    "\n",
    "### These exercises are designed to strengthen your grasp on basic programming concepts. Read what is required of you carefully. For example, instructions to return values are not the same as those of printing.\n",
    "\n",
    "### Make sure that cells are in script mode (not interactive mode)"
   ]
  },
  {
   "cell_type": "markdown",
   "metadata": {},
   "source": [
    "# 1\n",
    "\n",
    "### 1 point\n",
    "\n",
    "### Write a function that takes the circumference of a circle as a parameter and returns the area of the circle.\n",
    "\n",
    "### Note: Assume the value of pi is 3.1416"
   ]
  },
  {
   "cell_type": "code",
   "execution_count": 60,
   "metadata": {},
   "outputs": [
    {
     "data": {
      "text/plain": [
       "56.5488"
      ]
     },
     "execution_count": 60,
     "metadata": {},
     "output_type": "execute_result"
    }
   ],
   "source": [
    "def circlearea(radius):\n",
    "    pi = 3.1416\n",
    "    twopi = 2 * 3.1416\n",
    "    area = twopi * radius\n",
    "    return area\n",
    "\n",
    "circlearea(2)\n",
    "circlearea(7)\n",
    "circlearea(8)\n",
    "circlearea(9)"
   ]
  },
  {
   "cell_type": "markdown",
   "metadata": {},
   "source": [
    "# 2\n",
    "\n",
    "### 2 points\n",
    "\n",
    "### Write a function that takes a 5-character string as a parameter and returns the string in reverse order.\n",
    "\n",
    "### e.g. reverseString(\"Hello\")-> \"olleH\""
   ]
  },
  {
   "cell_type": "code",
   "execution_count": 24,
   "metadata": {},
   "outputs": [
    {
     "data": {
      "text/plain": [
       "'iiboT'"
      ]
     },
     "execution_count": 24,
     "metadata": {},
     "output_type": "execute_result"
    }
   ],
   "source": [
    "x = \"Tobii\"\n",
    "x[::-1]"
   ]
  },
  {
   "cell_type": "markdown",
   "metadata": {},
   "source": [
    "# 3\n",
    "\n",
    "### 2 points\n",
    "\n",
    "### Write a function that takes a positive integer as input and returns the sum of all positive integers smaller than and including the number itself.\n",
    "\n",
    "### e.g. backAddition(5)-> 1 + 2 + 3 + 4 + 5->15"
   ]
  },
  {
   "cell_type": "code",
   "execution_count": 151,
   "metadata": {},
   "outputs": [
    {
     "name": "stdout",
     "output_type": "stream",
     "text": [
      "Enter number:2\n",
      "Sum Total: 3\n"
     ]
    }
   ],
   "source": [
    "def positiveintegers(num):\n",
    "    num = int(input(\"Enter number:\"))\n",
    "    tot=0\n",
    "    while num > 0: \n",
    "        tot += num\n",
    "        num = num - 1\n",
    "    return tot\n",
    "\n",
    "print(\"Sum Total:\",positiveintegers(num))"
   ]
  },
  {
   "cell_type": "markdown",
   "metadata": {},
   "source": [
    "# 4\n",
    "\n",
    "### 5 points (all or nothing)\n",
    "\n",
    "### The sum of the squares of the first ten natural numbers is, 12+ 22 + ... + 102 = 385\n",
    "\n",
    "### The square of the sum of the first ten natural numbers is, (1 + 2 + ... + 10)2 = 552 = 3025\n",
    "\n",
    "### Hence the difference between the sum of the squares of the first ten natural numbers and the square of the sum is 3025 - 385= 2640.\n",
    "\n",
    "### Find the difference between the sum of the squares of the first one hundred natural numbers and the square of the sum.\n",
    "\n",
    "### Show code that generates the answer."
   ]
  },
  {
   "cell_type": "code",
   "execution_count": 46,
   "metadata": {},
   "outputs": [],
   "source": [
    "### 1,4,9,16,25,36,49,64,81,100= 385\n",
    "### (1+2+3+4+5+6+7+8+9+10)^2= 3025\n",
    "### 3025-385= 2640\n",
    "### Find: in terms of first 100 natural numbers"
   ]
  },
  {
   "cell_type": "code",
   "execution_count": 152,
   "metadata": {},
   "outputs": [
    {
     "name": "stdout",
     "output_type": "stream",
     "text": [
      "25164150\n"
     ]
    }
   ],
   "source": [
    "first = 0\n",
    "second = 0\n",
    "\n",
    "for num in range(1,101):\n",
    "    first = first + num**2\n",
    "    second = second + num\n",
    "    \n",
    "second = second**2\n",
    "\n",
    "print(second-first)"
   ]
  },
  {
   "cell_type": "markdown",
   "metadata": {},
   "source": [
    "# 5\n",
    "\n",
    "### 5 points \n",
    "\n",
    "### Write a function that allows a self-service Point of Sale system to give you the exact change when you pay in cash.\n",
    "\n",
    "### The function should accept the number of cents entered by the caller of the function. It then should display the denominations of the coins that should be given to the buyer. The change should use as few coins as possible. Assume that the Point of Sale system is loaded with 1 cent, 5 cents, 10 cents, 25 cents, and 1 peso coins.\n",
    "\n",
    "### Write main program code that accept the number of cents manually through user input and calls the function written above.\n",
    "\n",
    "### Input: The program accepts one positive integer, cents, corresponding to the total change to be given by the Point of Sale system.\n",
    "\n",
    "### Output: The number of 1 peso, 25 cents, 10 cents, 5 cents and 1 cent coins respectively. There should be one output per line."
   ]
  },
  {
   "cell_type": "code",
   "execution_count": 178,
   "metadata": {},
   "outputs": [
    {
     "name": "stdout",
     "output_type": "stream",
     "text": [
      "Enter total: 54\n",
      "0\n",
      "2\n",
      "0\n",
      "0\n",
      "4\n"
     ]
    }
   ],
   "source": [
    "def pos ():\n",
    "    changeinphp = int(input(\"Enter total: \"))\n",
    "    peso = 0\n",
    "    twentyfivecent = 0\n",
    "    tencent = 0\n",
    "    fivecent = 0\n",
    "    onecent = 0\n",
    "    while changeinphp >= 100:\n",
    "        changeinphp = changeinphp - 100\n",
    "        peso = peso + 1\n",
    "        \n",
    "    while changeinphp >= 25 and changeinphp <= 99:\n",
    "        changeinphp = changeinphp - 25\n",
    "        twentyfivecent = twentyfivecent + 1\n",
    "        \n",
    "    while changeinphp >= 10 and changeinphp <= 24:\n",
    "        changeinphp = changeinphp - 10\n",
    "        tencent = tencent + 1\n",
    "        \n",
    "    while changeinphp >= 5 and changeinphp <= 9:\n",
    "        changeinphp = changeinphp - 5\n",
    "        fivecent = fivecent + 1\n",
    "        \n",
    "    while changeinphp >= 1 and changeinphp <= 4:\n",
    "        changeinphp = changeinphp - 1\n",
    "        onecent = onecent + 1\n",
    "        \n",
    "    print(peso)\n",
    "    print(twentyfivecent)\n",
    "    print(tencent)\n",
    "    print(fivecent)\n",
    "    print(onecent)\n",
    "    \n",
    "pos ()"
   ]
  },
  {
   "cell_type": "code",
   "execution_count": null,
   "metadata": {},
   "outputs": [],
   "source": []
  }
 ],
 "metadata": {
  "kernelspec": {
   "display_name": "Python 3",
   "language": "python",
   "name": "python3"
  },
  "language_info": {
   "codemirror_mode": {
    "name": "ipython",
    "version": 3
   },
   "file_extension": ".py",
   "mimetype": "text/x-python",
   "name": "python",
   "nbconvert_exporter": "python",
   "pygments_lexer": "ipython3",
   "version": "3.8.3"
  }
 },
 "nbformat": 4,
 "nbformat_minor": 4
}
